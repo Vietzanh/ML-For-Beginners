{
 "cells": [
  {
   "cell_type": "code",
   "execution_count": 126,
   "id": "9029524c",
   "metadata": {},
   "outputs": [
    {
     "name": "stdout",
     "output_type": "stream",
     "text": [
      "(569, 30) (569,)\n"
     ]
    }
   ],
   "source": [
    "import pandas as pd\n",
    "import matplotlib.pyplot as plt\n",
    "import numpy as np\n",
    "from sklearn import datasets\n",
    "\n",
    "df = datasets.load_breast_cancer(as_frame=True)\n",
    "\n",
    "X = df.data\n",
    "y = df.target\n",
    "\n",
    "print(X.shape, y.shape)"
   ]
  },
  {
   "cell_type": "code",
   "execution_count": 31,
   "id": "b5822b26",
   "metadata": {},
   "outputs": [],
   "source": [
    "X1 = X.loc[:, X.columns.str.contains(\"mean\")]\n",
    "X2 = X.loc[:, ~X.columns.str.contains(\"mean|worst\")]\n",
    "X3 = X.loc[:, X.columns.str.contains(\"worst\")]"
   ]
  },
  {
   "cell_type": "code",
   "execution_count": null,
   "id": "a44c57e1",
   "metadata": {},
   "outputs": [],
   "source": [
    "for col in X.columns:\n",
    "    corr = X[col].corr(y)\n",
    "    print(f\"{col:30s} : {corr:.3f}\")"
   ]
  },
  {
   "cell_type": "code",
   "execution_count": 127,
   "id": "17cbf4de",
   "metadata": {},
   "outputs": [],
   "source": [
    "selected_columns = [col for col in X.columns if abs(X[col].corr(y)) > 0.2]\n",
    "X = X.loc[:, selected_columns]"
   ]
  },
  {
   "cell_type": "code",
   "execution_count": 107,
   "id": "abcda888",
   "metadata": {},
   "outputs": [],
   "source": [
    "max_col = max(selected_columns, key=lambda c: abs(X[c].corr(y)))\n",
    "X = X[max_col]"
   ]
  },
  {
   "cell_type": "code",
   "execution_count": 128,
   "id": "52b06853",
   "metadata": {},
   "outputs": [],
   "source": [
    "from sklearn.linear_model import LinearRegression\n",
    "from sklearn.metrics import mean_squared_error\n",
    "from sklearn.model_selection import train_test_split"
   ]
  },
  {
   "cell_type": "code",
   "execution_count": 129,
   "id": "fcaf7c9c",
   "metadata": {},
   "outputs": [],
   "source": [
    "y = y.to_numpy().reshape(-1,1)\n",
    "\n",
    "X_train, X_test, y_train, y_test = train_test_split(X, y, test_size=0.2, random_state=0)"
   ]
  },
  {
   "cell_type": "code",
   "execution_count": 130,
   "id": "ab70d2f3",
   "metadata": {},
   "outputs": [
    {
     "name": "stdout",
     "output_type": "stream",
     "text": [
      "Mean error: 0.251 (41.4%)\n",
      "Model determination:  0.7730811579528589\n"
     ]
    }
   ],
   "source": [
    "lin_reg = LinearRegression()\n",
    "lin_reg.fit(X_train,y_train)\n",
    "\n",
    "pred = lin_reg.predict(X_test)\n",
    "\n",
    "mse = np.sqrt(mean_squared_error(y_test,pred))\n",
    "print(f'Mean error: {mse:3.3} ({mse/np.mean(pred)*100:3.3}%)')\n",
    "\n",
    "score = lin_reg.score(X_train,y_train)\n",
    "print('Model determination: ', score)"
   ]
  },
  {
   "cell_type": "code",
   "execution_count": 131,
   "id": "9b85d8a9",
   "metadata": {},
   "outputs": [
    {
     "name": "stdout",
     "output_type": "stream",
     "text": [
      "Mean error: 1.66 (2.02e+02%)\n",
      "Model determination:  0.9701253877724552\n"
     ]
    }
   ],
   "source": [
    "from sklearn.preprocessing import PolynomialFeatures, StandardScaler\n",
    "from sklearn.pipeline import make_pipeline\n",
    "\n",
    "pipeline = make_pipeline(StandardScaler(), PolynomialFeatures(2), LinearRegression())\n",
    "pipeline.fit(X_train,y_train)\n",
    "\n",
    "pred = pipeline.predict(X_test)\n",
    "\n",
    "mse = np.sqrt(mean_squared_error(y_test,pred))\n",
    "print(f'Mean error: {mse:3.3} ({mse/np.mean(pred)*100:3.3}%)')\n",
    "\n",
    "score = pipeline.score(X_train,y_train)\n",
    "print('Model determination: ', score)"
   ]
  }
 ],
 "metadata": {
  "kernelspec": {
   "display_name": ".venv (3.13.5)",
   "language": "python",
   "name": "python3"
  },
  "language_info": {
   "codemirror_mode": {
    "name": "ipython",
    "version": 3
   },
   "file_extension": ".py",
   "mimetype": "text/x-python",
   "name": "python",
   "nbconvert_exporter": "python",
   "pygments_lexer": "ipython3",
   "version": "3.13.5"
  }
 },
 "nbformat": 4,
 "nbformat_minor": 5
}
